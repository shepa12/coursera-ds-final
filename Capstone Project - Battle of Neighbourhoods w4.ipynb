{
    "cells": [
        {
            "cell_type": "markdown",
            "metadata": {},
            "source": "# Week 4 submission\n\n\n\n## Introduction:\n\nThe aim of this project is to demostrate how Foursquare data can be used to explore or compare neighbourhoods or cities of choice and which problems can it solve.\n\n## Problem description:\n\nI have a friend, living in Brooklyn, New York, whose son has been accepted to the top school in the borough. Unfortunately the school is too far away from his neighbourhood, so he and his family need to move out closer to the school location. It is only natural, that he wants to move to a neighbourhood, which is very similar to his current home. He asked me to help find him neigbourhoods in the city, which are similar to his current neighbourhood.\n\n## Target audience:\n\nIn the future, this approach could be used as a service, helping people moving homes to find neighbourhoods similar to the ones they have been living in and used to. It can partner up with real estate agencies or real estate marketplaces, like Zoopla, which have the same target audience, as the project and offer these services in order to enhance the benefits of using the company / service.\n\n## Data description:\n\nI will use the dataset from https://geo.nyu.edu/catalog/nyu_2451_34572 in order to get the list of 5 boroughs and all neighbourhoods in New York alongside with their respective latitude and longitude coordinates. Conveniently, they have also been downloaded onto the server by Coursera Instructor and can be found using the link https://cocl.us/new_york_dataset , which I will use for this project.\n\nI will download the data, then filter it to get only neighbourhoods located in Brooklyn. Then I will use Foursquare API to explore areas around center of each neighbourhood and find 10 most common venues in each neighbourhood. Then k-means clustering algorithm will be used to group neighbourhoods into 4 groups. These groups will be used to find similar neighbourhoods in Brooklyn. Finally, I will use Folium library to visualize the neighbourhoods in Brooklyn and which clusters they belong to for convenience."
        },
        {
            "cell_type": "code",
            "execution_count": null,
            "metadata": {},
            "outputs": [],
            "source": ""
        }
    ],
    "metadata": {
        "kernelspec": {
            "display_name": "Python 3.6",
            "language": "python",
            "name": "python3"
        },
        "language_info": {
            "codemirror_mode": {
                "name": "ipython",
                "version": 3
            },
            "file_extension": ".py",
            "mimetype": "text/x-python",
            "name": "python",
            "nbconvert_exporter": "python",
            "pygments_lexer": "ipython3",
            "version": "3.6.9"
        }
    },
    "nbformat": 4,
    "nbformat_minor": 1
}